{
 "cells": [
  {
   "cell_type": "code",
   "execution_count": 15,
   "metadata": {},
   "outputs": [],
   "source": [
    "import pandas as pd\n",
    "from sklearn.feature_extraction.text import TfidfVectorizer\n",
    "from sklearn.metrics.pairwise import cosine_similarity"
   ]
  },
  {
   "cell_type": "code",
   "execution_count": 21,
   "metadata": {},
   "outputs": [],
   "source": [
    "# Step 1: Load and Preprocess the Dataset\n",
    "\n",
    "courses_df = pd.read_csv(\"C:\\\\Users\\\\chvas\\\\OneDrive\\\\Desktop\\\\udemy_course_data.csv\")\n"
   ]
  },
  {
   "cell_type": "code",
   "execution_count": 18,
   "metadata": {},
   "outputs": [],
   "source": [
    "# Filling missing values (if any)\n",
    "courses_df.fillna('', inplace=True)"
   ]
  },
  {
   "cell_type": "code",
   "execution_count": 19,
   "metadata": {},
   "outputs": [],
   "source": [
    "# Convert price and subscribers to numeric (for recommendation purposes)\n",
    "courses_df['price'] = pd.to_numeric(courses_df['price'], errors='coerce')\n",
    "courses_df['num_subscribers'] = pd.to_numeric(courses_df['num_subscribers'], errors='coerce')\n"
   ]
  },
  {
   "cell_type": "code",
   "execution_count": 20,
   "metadata": {},
   "outputs": [],
   "source": [
    "# Step 2: Collaborative Filtering using Pandas\n",
    "# We will create a simple collaborative filtering system based on 'num_reviews' (as a proxy for user ratings)\n",
    "\n",
    "# Create a pivot table where rows are 'course_title' and columns are 'user_id' (simulated)\n",
    "# We'll fill missing values with 0 (no review or rating)\n",
    "ratings_df = courses_df.pivot_table(index='course_title', values='num_reviews', aggfunc='mean').fillna(0)\n"
   ]
  },
  {
   "cell_type": "code",
   "execution_count": 22,
   "metadata": {},
   "outputs": [],
   "source": [
    "#Calculate similarity between courses based on reviews\n",
    "item_similarity = cosine_similarity(ratings_df)\n",
    "item_similarity_df = pd.DataFrame(item_similarity, index=ratings_df.index, columns=ratings_df.index)\n"
   ]
  },
  {
   "cell_type": "code",
   "execution_count": 23,
   "metadata": {},
   "outputs": [],
   "source": [
    "# Function to recommend courses based on item similarity\n",
    "def recommend_courses_collaborative(course_title, item_similarity_df=item_similarity_df):\n",
    "    # Get the similarity scores for the course\n",
    "    sim_scores = item_similarity_df[course_title].sort_values(ascending=False)\n",
    "    \n",
    "    # Return the top 5 most similar courses (excluding the course itself)\n",
    "    return sim_scores[1:6]\n"
   ]
  },
  {
   "cell_type": "code",
   "execution_count": 24,
   "metadata": {},
   "outputs": [
    {
     "name": "stdout",
     "output_type": "stream",
     "text": [
      "Collaborative filtering recommendations:\n",
      "course_title\n",
      "#1 Piano Hand Coordination: Play 10th Ballad in Eb Key songs    1.0\n",
      "#10 Hand Coordination - Transfer Chord Ballad 9 - C & Bb Key    1.0\n",
      "#12 Hand Coordination: Let your Hands dance with Ballad 9       1.0\n",
      "株式投資に向く性格に変えるための心理学を学ぶ                                          1.0\n",
      "株式投資で本当のファンダメンタル分析ができるようになる                                     1.0\n",
      "Name: Ultimate Investment Banking Course, dtype: float64\n"
     ]
    }
   ],
   "source": [
    "\n",
    "# Example: Recommend similar courses to \"Ultimate Investment Banking Course\"\n",
    "collaborative_recommendations = recommend_courses_collaborative(\"Ultimate Investment Banking Course\")\n",
    "print(\"Collaborative filtering recommendations:\")\n",
    "print(collaborative_recommendations)\n"
   ]
  },
  {
   "cell_type": "code",
   "execution_count": 25,
   "metadata": {},
   "outputs": [],
   "source": [
    "# Step 3: Content-Based Filtering using TF-IDF and Cosine Similarity\n",
    "# Combine relevant features for content-based recommendation\n",
    "courses_df['features'] = courses_df['course_title'] + ' ' + courses_df['subject'] + ' ' + courses_df['level']\n",
    "\n"
   ]
  },
  {
   "cell_type": "code",
   "execution_count": 26,
   "metadata": {},
   "outputs": [],
   "source": [
    "#Use TF-IDF to analyze text data (course details)\n",
    "vectorizer = TfidfVectorizer(stop_words='english')\n",
    "tfidf_matrix = vectorizer.fit_transform(courses_df['features'])\n",
    "\n",
    "# Compute cosine similarity between courses\n",
    "cosine_sim = cosine_similarity(tfidf_matrix, tfidf_matrix)\n"
   ]
  },
  {
   "cell_type": "code",
   "execution_count": null,
   "metadata": {},
   "outputs": [],
   "source": [
    "\n",
    "# Function to recommend similar courses based on a given course\n",
    "def recommend_courses_content_based(course_title, cosine_sim=cosine_sim, courses_df=courses_df):\n",
    "    # Get the index of the course that matches the title\n",
    "    idx = courses_df.index[courses_df['course_title'] == course_title][0]\n",
    "    "
   ]
  },
  {
   "cell_type": "code",
   "execution_count": null,
   "metadata": {},
   "outputs": [],
   "source": [
    "# Get similarity scores for all courses\n",
    "sim_scores = list(enumerate(cosine_sim[idx]))"
   ]
  },
  {
   "cell_type": "code",
   "execution_count": null,
   "metadata": {},
   "outputs": [],
   "source": [
    "# Sort the courses based on similarity scores (descending)\n",
    "sim_scores = sorted(sim_scores, key=lambda x: x[1], reverse=True)\n",
    "    "
   ]
  },
  {
   "cell_type": "code",
   "execution_count": null,
   "metadata": {},
   "outputs": [],
   "source": [
    " # Get the indices of the top 5 most similar courses\n",
    "sim_indices = [i[0] for i in sim_scores[1:6]]\n",
    "    "
   ]
  },
  {
   "cell_type": "code",
   "execution_count": 30,
   "metadata": {},
   "outputs": [],
   "source": [
    "# Get the index of the course that matches the title\n",
    "idx = courses_df.index[courses_df['course_title'] == course_title][0]\n",
    "\n",
    "# Get similarity scores for all courses\n",
    "sim_scores = list(enumerate(cosine_sim[idx]))\n",
    "\n",
    "# Sort the courses based on similarity scores (descending)\n",
    "sim_scores = sorted(sim_scores, key=lambda x: x[1], reverse=True)\n",
    "\n",
    "# Get the indices of the top 5 most similar courses (excluding the first one, which is the course itself)\n",
    "sim_indices = [i[0] for i in sim_scores[1:6]]\n"
   ]
  },
  {
   "cell_type": "code",
   "execution_count": 32,
   "metadata": {},
   "outputs": [
    {
     "name": "stdout",
     "output_type": "stream",
     "text": [
      "Courses similar to 'Ultimate Investment Banking Course':\n",
      "The Complete Investment Banking Course 2017\n",
      "Advanced Accounting for Investment Banking\n",
      "The Investment Banking Recruitment Series\n",
      "Business Banking 101\n",
      "Intro to Investment Banking, M&A, IPO, Modeling + Free Book\n"
     ]
    }
   ],
   "source": [
    "# Display the top 5 most similar courses\n",
    "print(f\"Courses similar to '{course_title}':\")\n",
    "for idx in sim_indices:\n",
    "    print(courses_df['course_title'].iloc[idx])"
   ]
  }
 ],
 "metadata": {
  "kernelspec": {
   "display_name": "Python 3",
   "language": "python",
   "name": "python3"
  },
  "language_info": {
   "codemirror_mode": {
    "name": "ipython",
    "version": 3
   },
   "file_extension": ".py",
   "mimetype": "text/x-python",
   "name": "python",
   "nbconvert_exporter": "python",
   "pygments_lexer": "ipython3",
   "version": "3.11.9"
  }
 },
 "nbformat": 4,
 "nbformat_minor": 2
}
